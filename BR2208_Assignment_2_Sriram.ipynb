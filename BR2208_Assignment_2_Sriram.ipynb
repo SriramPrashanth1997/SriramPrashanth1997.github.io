{
  "nbformat": 4,
  "nbformat_minor": 0,
  "metadata": {
    "colab": {
      "provenance": [],
      "mount_file_id": "1nu3rize-pNMWJ7CFx30WPZfnzLT0W6hy",
      "authorship_tag": "ABX9TyN5HBOull/WZ0SEOWO7h8GX",
      "include_colab_link": true
    },
    "kernelspec": {
      "name": "python3",
      "display_name": "Python 3"
    },
    "language_info": {
      "name": "python"
    }
  },
  "cells": [
    {
      "cell_type": "markdown",
      "metadata": {
        "id": "view-in-github",
        "colab_type": "text"
      },
      "source": [
        "<a href=\"https://colab.research.google.com/github/SriramPrashanth1997/SriramPrashanth1997.github.io/blob/master/BR2208_Assignment_2_Sriram.ipynb\" target=\"_parent\"><img src=\"https://colab.research.google.com/assets/colab-badge.svg\" alt=\"Open In Colab\"/></a>"
      ]
    },
    {
      "cell_type": "code",
      "execution_count": 7,
      "metadata": {
        "id": "wMFwMLmnSXKd"
      },
      "outputs": [],
      "source": [
        "import pandas as pd\n",
        "import numpy as np\n",
        "import matplotlib.pyplot as plt\n",
        "ford_data = pd.read_csv(r\"/content/F.csv\")\n",
        "tesla_data = pd.read_csv(r\"/content/TSLA.csv\")"
      ]
    },
    {
      "cell_type": "code",
      "source": [
        "ford = ford_data[['Date','Adj Close']]\n",
        "tesla = tesla_data[['Date','Adj Close']]\n",
        "new_df = pd.merge(ford, tesla, how=\"left\", on=\"Date\") "
      ],
      "metadata": {
        "id": "lpbDqZ0oTAhr"
      },
      "execution_count": 8,
      "outputs": []
    },
    {
      "cell_type": "code",
      "source": [
        "new_df = new_df.rename(columns={\"Adj Close_x\":\"F Adj Close\",\"Adj Close_y\":'TSLA Adj Close'})\n",
        "tsla_ln = new_df['TSLA Adj Close'].pct_change().apply(lambda x: np.log(1+x))\n",
        "f_ln = new_df['F Adj Close'].pct_change().apply(lambda x: np.log(1+x))\n",
        "var_tesla = tsla_ln.var()\n",
        "var_ford = f_ln.var()"
      ],
      "metadata": {
        "id": "7Tdt_g4rT5Ll"
      },
      "execution_count": 9,
      "outputs": []
    },
    {
      "cell_type": "code",
      "source": [
        "test1 = new_df[['F Adj Close','TSLA Adj Close']]\n",
        "test2 = test1.pct_change().apply(lambda x: np.log(1+x))\n",
        "cov_matrix = test1.pct_change().apply(lambda x: np.log(1+x)).cov()"
      ],
      "metadata": {
        "id": "BwvcbB9hUAI3"
      },
      "execution_count": 12,
      "outputs": []
    },
    {
      "cell_type": "code",
      "source": [
        "ann_sd = test1.pct_change().apply(lambda x: np.log(1+x)).std().apply(lambda x: x*np.sqrt(52))\n",
        "ind_er = test2.mean()\n",
        "ind_er\n",
        "assets = pd.concat([ind_er, ann_sd], axis=1) # Creating a table for visualising returns and volatility of assets\n",
        "assets.columns = ['Returns', 'Volatility']\n",
        "assets\n",
        "p_ret = [] # Define an empty array for portfolio returns\n",
        "p_vol = [] # Define an empty array for portfolio volatility\n",
        "p_weights = [] # Define an empty array for asset weights\n",
        "\n",
        "num_assets = 2\n",
        "num_portfolios = 53\n",
        "for portfolio in range(num_portfolios):\n",
        "    weights = np.random.random(num_assets)\n",
        "    weights = weights/np.sum(weights)\n",
        "    p_weights.append(weights)\n",
        "    returns = np.dot(weights, ind_er) # Returns are the product of individual expected returns of asset and its \n",
        "                                      # weights \n",
        "    p_ret.append(returns)\n",
        "    var = cov_matrix.mul(weights, axis=0).mul(weights, axis=1).sum().sum()# Portfolio Variance\n",
        "    sd = np.sqrt(var) # Daily standard deviation\n",
        "    ann_sd = sd*np.sqrt(52) # Annual standard deviation = volatility\n",
        "    p_vol.append(ann_sd)\n"
      ],
      "metadata": {
        "id": "gP0O5BvgUJru"
      },
      "execution_count": 13,
      "outputs": []
    },
    {
      "cell_type": "code",
      "source": [
        "data = {'Returns':p_ret, 'Volatility':p_vol}\n",
        "\n",
        "for counter, symbol in enumerate(test1.columns.tolist()):\n",
        "    #print(counter, symbol)\n",
        "    data[symbol+' weight'] = [w[counter] for w in p_weights]\n",
        "portfolios  = pd.DataFrame(data)\n",
        "portfolios.head()\n"
      ],
      "metadata": {
        "colab": {
          "base_uri": "https://localhost:8080/",
          "height": 206
        },
        "id": "QHUTnQgaWu1f",
        "outputId": "c31d344a-a901-4719-a965-23e401dffd8b"
      },
      "execution_count": 14,
      "outputs": [
        {
          "output_type": "execute_result",
          "data": {
            "text/plain": [
              "    Returns  Volatility  F Adj Close weight  TSLA Adj Close weight\n",
              "0  0.006817    0.396809            0.550102               0.449898\n",
              "1  0.006738    0.399940            0.500039               0.499961\n",
              "2  0.006048    0.497221            0.062843               0.937157\n",
              "3  0.006673    0.403896            0.459151               0.540849\n",
              "4  0.005981    0.511687            0.020782               0.979218"
            ],
            "text/html": [
              "\n",
              "  <div id=\"df-bf121167-823c-468e-91b5-147928cf79b4\">\n",
              "    <div class=\"colab-df-container\">\n",
              "      <div>\n",
              "<style scoped>\n",
              "    .dataframe tbody tr th:only-of-type {\n",
              "        vertical-align: middle;\n",
              "    }\n",
              "\n",
              "    .dataframe tbody tr th {\n",
              "        vertical-align: top;\n",
              "    }\n",
              "\n",
              "    .dataframe thead th {\n",
              "        text-align: right;\n",
              "    }\n",
              "</style>\n",
              "<table border=\"1\" class=\"dataframe\">\n",
              "  <thead>\n",
              "    <tr style=\"text-align: right;\">\n",
              "      <th></th>\n",
              "      <th>Returns</th>\n",
              "      <th>Volatility</th>\n",
              "      <th>F Adj Close weight</th>\n",
              "      <th>TSLA Adj Close weight</th>\n",
              "    </tr>\n",
              "  </thead>\n",
              "  <tbody>\n",
              "    <tr>\n",
              "      <th>0</th>\n",
              "      <td>0.006817</td>\n",
              "      <td>0.396809</td>\n",
              "      <td>0.550102</td>\n",
              "      <td>0.449898</td>\n",
              "    </tr>\n",
              "    <tr>\n",
              "      <th>1</th>\n",
              "      <td>0.006738</td>\n",
              "      <td>0.399940</td>\n",
              "      <td>0.500039</td>\n",
              "      <td>0.499961</td>\n",
              "    </tr>\n",
              "    <tr>\n",
              "      <th>2</th>\n",
              "      <td>0.006048</td>\n",
              "      <td>0.497221</td>\n",
              "      <td>0.062843</td>\n",
              "      <td>0.937157</td>\n",
              "    </tr>\n",
              "    <tr>\n",
              "      <th>3</th>\n",
              "      <td>0.006673</td>\n",
              "      <td>0.403896</td>\n",
              "      <td>0.459151</td>\n",
              "      <td>0.540849</td>\n",
              "    </tr>\n",
              "    <tr>\n",
              "      <th>4</th>\n",
              "      <td>0.005981</td>\n",
              "      <td>0.511687</td>\n",
              "      <td>0.020782</td>\n",
              "      <td>0.979218</td>\n",
              "    </tr>\n",
              "  </tbody>\n",
              "</table>\n",
              "</div>\n",
              "      <button class=\"colab-df-convert\" onclick=\"convertToInteractive('df-bf121167-823c-468e-91b5-147928cf79b4')\"\n",
              "              title=\"Convert this dataframe to an interactive table.\"\n",
              "              style=\"display:none;\">\n",
              "        \n",
              "  <svg xmlns=\"http://www.w3.org/2000/svg\" height=\"24px\"viewBox=\"0 0 24 24\"\n",
              "       width=\"24px\">\n",
              "    <path d=\"M0 0h24v24H0V0z\" fill=\"none\"/>\n",
              "    <path d=\"M18.56 5.44l.94 2.06.94-2.06 2.06-.94-2.06-.94-.94-2.06-.94 2.06-2.06.94zm-11 1L8.5 8.5l.94-2.06 2.06-.94-2.06-.94L8.5 2.5l-.94 2.06-2.06.94zm10 10l.94 2.06.94-2.06 2.06-.94-2.06-.94-.94-2.06-.94 2.06-2.06.94z\"/><path d=\"M17.41 7.96l-1.37-1.37c-.4-.4-.92-.59-1.43-.59-.52 0-1.04.2-1.43.59L10.3 9.45l-7.72 7.72c-.78.78-.78 2.05 0 2.83L4 21.41c.39.39.9.59 1.41.59.51 0 1.02-.2 1.41-.59l7.78-7.78 2.81-2.81c.8-.78.8-2.07 0-2.86zM5.41 20L4 18.59l7.72-7.72 1.47 1.35L5.41 20z\"/>\n",
              "  </svg>\n",
              "      </button>\n",
              "      \n",
              "  <style>\n",
              "    .colab-df-container {\n",
              "      display:flex;\n",
              "      flex-wrap:wrap;\n",
              "      gap: 12px;\n",
              "    }\n",
              "\n",
              "    .colab-df-convert {\n",
              "      background-color: #E8F0FE;\n",
              "      border: none;\n",
              "      border-radius: 50%;\n",
              "      cursor: pointer;\n",
              "      display: none;\n",
              "      fill: #1967D2;\n",
              "      height: 32px;\n",
              "      padding: 0 0 0 0;\n",
              "      width: 32px;\n",
              "    }\n",
              "\n",
              "    .colab-df-convert:hover {\n",
              "      background-color: #E2EBFA;\n",
              "      box-shadow: 0px 1px 2px rgba(60, 64, 67, 0.3), 0px 1px 3px 1px rgba(60, 64, 67, 0.15);\n",
              "      fill: #174EA6;\n",
              "    }\n",
              "\n",
              "    [theme=dark] .colab-df-convert {\n",
              "      background-color: #3B4455;\n",
              "      fill: #D2E3FC;\n",
              "    }\n",
              "\n",
              "    [theme=dark] .colab-df-convert:hover {\n",
              "      background-color: #434B5C;\n",
              "      box-shadow: 0px 1px 3px 1px rgba(0, 0, 0, 0.15);\n",
              "      filter: drop-shadow(0px 1px 2px rgba(0, 0, 0, 0.3));\n",
              "      fill: #FFFFFF;\n",
              "    }\n",
              "  </style>\n",
              "\n",
              "      <script>\n",
              "        const buttonEl =\n",
              "          document.querySelector('#df-bf121167-823c-468e-91b5-147928cf79b4 button.colab-df-convert');\n",
              "        buttonEl.style.display =\n",
              "          google.colab.kernel.accessAllowed ? 'block' : 'none';\n",
              "\n",
              "        async function convertToInteractive(key) {\n",
              "          const element = document.querySelector('#df-bf121167-823c-468e-91b5-147928cf79b4');\n",
              "          const dataTable =\n",
              "            await google.colab.kernel.invokeFunction('convertToInteractive',\n",
              "                                                     [key], {});\n",
              "          if (!dataTable) return;\n",
              "\n",
              "          const docLinkHtml = 'Like what you see? Visit the ' +\n",
              "            '<a target=\"_blank\" href=https://colab.research.google.com/notebooks/data_table.ipynb>data table notebook</a>'\n",
              "            + ' to learn more about interactive tables.';\n",
              "          element.innerHTML = '';\n",
              "          dataTable['output_type'] = 'display_data';\n",
              "          await google.colab.output.renderOutput(dataTable, element);\n",
              "          const docLink = document.createElement('div');\n",
              "          docLink.innerHTML = docLinkHtml;\n",
              "          element.appendChild(docLink);\n",
              "        }\n",
              "      </script>\n",
              "    </div>\n",
              "  </div>\n",
              "  "
            ]
          },
          "metadata": {},
          "execution_count": 14
        }
      ]
    },
    {
      "cell_type": "code",
      "source": [
        "portfolios.plot.scatter(x='Volatility', y='Returns', marker='o', s=10, alpha=0.3, grid=True, figsize=[10,10])"
      ],
      "metadata": {
        "colab": {
          "base_uri": "https://localhost:8080/",
          "height": 623
        },
        "id": "1UdrwpR-Wvv8",
        "outputId": "621b69c4-c611-4318-c171-c5a74e7fd4fb"
      },
      "execution_count": 15,
      "outputs": [
        {
          "output_type": "execute_result",
          "data": {
            "text/plain": [
              "<matplotlib.axes._subplots.AxesSubplot at 0x7fca68d6c4d0>"
            ]
          },
          "metadata": {},
          "execution_count": 15
        },
        {
          "output_type": "display_data",
          "data": {
            "text/plain": [
              "<Figure size 720x720 with 1 Axes>"
            ],
            "image/png": "[encoded data removed]"
          },
          "metadata": {
            "needs_background": "light"
          }
        }
      ]
    },
    {
      "cell_type": "code",
      "source": [
        "min_vol_port = portfolios.iloc[portfolios['Volatility'].idxmin()]\n",
        "# idxmin() gives us the minimum value in the column specified.                               \n",
        "min_vol_port"
      ],
      "metadata": {
        "colab": {
          "base_uri": "https://localhost:8080/"
        },
        "id": "X4rHEYBNWyWb",
        "outputId": "83e663be-84df-40fe-d693-b7aef86b478f"
      },
      "execution_count": 16,
      "outputs": [
        {
          "output_type": "execute_result",
          "data": {
            "text/plain": [
              "Returns                  0.006909\n",
              "Volatility               0.395595\n",
              "F Adj Close weight       0.608540\n",
              "TSLA Adj Close weight    0.391460\n",
              "Name: 18, dtype: float64"
            ]
          },
          "metadata": {},
          "execution_count": 16
        }
      ]
    },
    {
      "cell_type": "code",
      "source": [
        "plt.subplots(figsize=[10,10])\n",
        "plt.scatter(portfolios['Volatility'], portfolios['Returns'],marker='o', s=10, alpha=0.3)\n",
        "plt.scatter(min_vol_port[1], min_vol_port[0], color='r', marker='*', s=500)"
      ],
      "metadata": {
        "colab": {
          "base_uri": "https://localhost:8080/",
          "height": 609
        },
        "id": "qcTYB7g_W78i",
        "outputId": "d3dd72f4-3677-4f6d-86f9-e6e03021fedf"
      },
      "execution_count": 17,
      "outputs": [
        {
          "output_type": "execute_result",
          "data": {
            "text/plain": [
              "<matplotlib.collections.PathCollection at 0x7fca687c5250>"
            ]
          },
          "metadata": {},
          "execution_count": 17
        },
        {
          "output_type": "display_data",
          "data": {
            "text/plain": [
              "<Figure size 720x720 with 1 Axes>"
            ],
            "image/png": "[encoded data removed]"
          },
          "metadata": {
            "needs_background": "light"
          }
        }
      ]
    },
    {
      "cell_type": "code",
      "source": [
        "test2['TSLA Adj Close'].cov(test2['F Adj Close'])\n",
        "test2['TSLA Adj Close'].corr(test2['F Adj Close'])\n"
      ],
      "metadata": {
        "colab": {
          "base_uri": "https://localhost:8080/"
        },
        "id": "EK7K6Fo4W_Fp",
        "outputId": "85446f53-9f89-42eb-9c8f-0eda2603cfd5"
      },
      "execution_count": 18,
      "outputs": [
        {
          "output_type": "execute_result",
          "data": {
            "text/plain": [
              "0.3542360511460083"
            ]
          },
          "metadata": {},
          "execution_count": 18
        }
      ]
    },
    {
      "cell_type": "code",
      "source": [
        "import numpy as np\n",
        "np.random.seed(42)\n",
        "num_ports = 54\n",
        "all_weights = np.zeros((num_ports,2))\n",
        "ret_arr = np.zeros(num_ports)\n",
        "vol_arr = np.zeros(num_ports)\n",
        "sharpe_arr = np.zeros(num_ports)\n",
        "\n",
        "for x in range(num_ports):\n",
        "    # Weights\n",
        "    weights = np.array(np.random.random(2))\n",
        "    weights = weights/np.sum(weights)\n",
        "    \n",
        "    # Save weights\n",
        "    all_weights[x,:] = weights\n",
        "    \n",
        "    # Expected return\n",
        "    ret_arr[x] = np.sum( (test2.mean() * weights * 52))\n",
        "    \n",
        "    # Expected volatility\n",
        "    vol_arr[x] = np.sqrt(np.dot(weights.T, np.dot(test2.cov()*52, weights)))\n",
        "    \n",
        "    # Sharpe Ratio\n",
        "    sharpe_arr[x] = ret_arr[x]/vol_arr[x]"
      ],
      "metadata": {
        "id": "ZVTHkjFlcBiV"
      },
      "execution_count": 19,
      "outputs": []
    },
    {
      "cell_type": "code",
      "source": [
        "import matplotlib.pyplot as plt\n",
        "plt.figure(figsize=(12,8))\n",
        "plt.scatter(vol_arr, ret_arr)\n",
        "\n",
        "plt.xlabel('Volatility')\n",
        "plt.ylabel('Return')\n",
        "plt.show()"
      ],
      "metadata": {
        "colab": {
          "base_uri": "https://localhost:8080/",
          "height": 497
        },
        "id": "GXEY_VpYcCP8",
        "outputId": "d582235e-b4eb-4fed-854b-74056c49b13f"
      },
      "execution_count": 20,
      "outputs": [
        {
          "output_type": "display_data",
          "data": {
            "text/plain": [
              "<Figure size 864x576 with 1 Axes>"
            ],
            "image/png": "[encoded data removed]"
          },
          "metadata": {
            "needs_background": "light"
          }
        }
      ]
    },
    {
      "cell_type": "code",
      "source": [
        "print('Min Vol:{}'.format(vol_arr.max()))"
      ],
      "metadata": {
        "colab": {
          "base_uri": "https://localhost:8080/"
        },
        "id": "8DNB0mBUcHcw",
        "outputId": "5ab327bc-b3fe-4c09-a9fb-878535899df0"
      },
      "execution_count": 21,
      "outputs": [
        {
          "output_type": "stream",
          "name": "stdout",
          "text": [
            "Min Vol:0.5166655100798256\n"
          ]
        }
      ]
    },
    {
      "cell_type": "code",
      "source": [
        "print('Max Sharpe:{}'.format(sharpe_arr.max()))\n",
        "print('Location:{}'.format(sharpe_arr.argmax()))"
      ],
      "metadata": {
        "colab": {
          "base_uri": "https://localhost:8080/"
        },
        "id": "9IAFB14rcaGJ",
        "outputId": "4bac2555-53e3-471b-c250-4fd300aa4ea1"
      },
      "execution_count": 22,
      "outputs": [
        {
          "output_type": "stream",
          "name": "stdout",
          "text": [
            "Max Sharpe:0.9191894583470882\n",
            "Location:31\n"
          ]
        }
      ]
    },
    {
      "cell_type": "code",
      "source": [
        "print(all_weights[24,:])\n",
        "max_sr_ret = ret_arr[sharpe_arr.argmax()]\n",
        "max_sr_vol = vol_arr[sharpe_arr.argmax()]"
      ],
      "metadata": {
        "colab": {
          "base_uri": "https://localhost:8080/"
        },
        "id": "Qf5_WXiJ-_ec",
        "outputId": "3d1a18a1-fda5-4638-adc3-60885eb6a067"
      },
      "execution_count": 23,
      "outputs": [
        {
          "output_type": "stream",
          "name": "stdout",
          "text": [
            "[0.74731634 0.25268366]\n"
          ]
        }
      ]
    },
    {
      "cell_type": "code",
      "source": [
        "max_sr_vol"
      ],
      "metadata": {
        "colab": {
          "base_uri": "https://localhost:8080/"
        },
        "id": "14DwDIij_Hrq",
        "outputId": "d128d0b4-a2a6-4518-ebc0-0a44198405c4"
      },
      "execution_count": 24,
      "outputs": [
        {
          "output_type": "execute_result",
          "data": {
            "text/plain": [
              "0.3989383987563954"
            ]
          },
          "metadata": {},
          "execution_count": 24
        }
      ]
    },
    {
      "cell_type": "code",
      "source": [
        "max_sr_ret"
      ],
      "metadata": {
        "colab": {
          "base_uri": "https://localhost:8080/"
        },
        "id": "XJx76CP8_Kbw",
        "outputId": "9a4757e9-f2a0-4b5b-ebaa-a7a0af1b088a"
      },
      "execution_count": 25,
      "outputs": [
        {
          "output_type": "execute_result",
          "data": {
            "text/plain": [
              "0.3666999706667458"
            ]
          },
          "metadata": {},
          "execution_count": 25
        }
      ]
    },
    {
      "cell_type": "code",
      "source": [
        "import matplotlib.pyplot as plt\n",
        "cal_x = []\n",
        "cal_y = []\n",
        "utility = []\n",
        "A = 4\n",
        "RF = 0.03\n",
        "for er in np.linspace(0.3, max(ret_arr), 20):\n",
        "    sd = (er - RF)/((max_sr_ret -RF)/max_sr_vol)\n",
        "    u = er - 0.005*A*(sd**2)\n",
        "    cal_x.append(sd)\n",
        "    cal_y.append(er)\n",
        "    utility.append(u)\n",
        "data2 = {'utility':utility, 'cal_y':cal_y, 'cal_x':cal_x}\n",
        "cal = pd.DataFrame(data2)\n",
        "plt.figure(figsize=(12,8))\n",
        "plt.scatter(vol_arr, ret_arr, c=sharpe_arr, cmap='viridis')\n",
        "plt.colorbar(label='Sharpe Ratio')\n",
        "plt.xlabel('Volatility')\n",
        "plt.ylabel('Return')\n",
        "plt.scatter(max_sr_vol, max_sr_ret,c='red', s=50)\n",
        "# red dot\n",
        "plt.plot(cal_x, cal_y, color='r')\n",
        "plt.show()"
      ],
      "metadata": {
        "colab": {
          "base_uri": "https://localhost:8080/",
          "height": 497
        },
        "id": "Is31xXrO_QNk",
        "outputId": "ebeb7714-bcca-4158-fbb5-a65b90f60831"
      },
      "execution_count": 26,
      "outputs": [
        {
          "output_type": "display_data",
          "data": {
            "text/plain": [
              "<Figure size 864x576 with 2 Axes>"
            ],
            "image/png": "[encoded data removed]"
          },
          "metadata": {
            "needs_background": "light"
          }
        }
      ]
    }
  ]
}